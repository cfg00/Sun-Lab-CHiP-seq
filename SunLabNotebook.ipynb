{
  "nbformat": 4,
  "nbformat_minor": 0,
  "metadata": {
    "colab": {
      "provenance": [],
      "authorship_tag": "ABX9TyO5RL+FZyxQ8ipeICIjel9l",
      "include_colab_link": true
    },
    "kernelspec": {
      "name": "python3",
      "display_name": "Python 3"
    },
    "language_info": {
      "name": "python"
    }
  },
  "cells": [
    {
      "cell_type": "markdown",
      "metadata": {
        "id": "view-in-github",
        "colab_type": "text"
      },
      "source": [
        "<a href=\"https://colab.research.google.com/github/cfg00/Sun-Lab-CHiP-seq/blob/main/SunLabNotebook.ipynb\" target=\"_parent\"><img src=\"https://colab.research.google.com/assets/colab-badge.svg\" alt=\"Open In Colab\"/></a>"
      ]
    },
    {
      "cell_type": "code",
      "execution_count": null,
      "metadata": {
        "colab": {
          "base_uri": "https://localhost:8080/"
        },
        "id": "xaDyPqxzA1LR",
        "outputId": "6d1f3512-cf1e-485a-9aaa-cc0bf28ff3b8"
      },
      "outputs": [
        {
          "output_type": "stream",
          "name": "stdout",
          "text": [
            "hello\n"
          ]
        }
      ],
      "source": [
        "var = \"hello\"\n",
        "print(var)"
      ]
    },
    {
      "cell_type": "markdown",
      "source": [
        "The Pipeline should use BWA for allignment, and HOMER for peak calling."
      ],
      "metadata": {
        "id": "XmPyeCGYDMoz"
      }
    }
  ]
}